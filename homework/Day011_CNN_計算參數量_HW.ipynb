{
 "cells": [
  {
   "cell_type": "markdown",
   "metadata": {},
   "source": [
    "## 『本次練習內容』\n",
    "#### 運用Keras搭建簡單的Dense Layer與 Convolution2D Layer，使用相同Neurons數量，計算總參數量相差多少。"
   ]
  },
  {
   "cell_type": "markdown",
   "metadata": {},
   "source": [
    "## 『本次練習目的』\n",
    "  #### 本次練習主要是要讓各位了解CNN與FC層的參數使用量差異\n",
    "  #### Convolution2D有許多參數可以設置，之後章節會細談\n",
    "  #### 不熟Keras的人也可以藉此了解NN層的不同搭法"
   ]
  },
  {
   "cell_type": "code",
   "execution_count": 1,
   "metadata": {},
   "outputs": [
    {
     "name": "stderr",
     "output_type": "stream",
     "text": [
      "Using TensorFlow backend.\n"
     ]
    }
   ],
   "source": [
    "from keras.models import Sequential\n",
    "from keras.layers import Convolution2D\n",
    "from keras.layers import Input, Dense\n",
    "from keras.models import Model"
   ]
  },
  {
   "cell_type": "code",
   "execution_count": 6,
   "metadata": {},
   "outputs": [
    {
     "name": "stdout",
     "output_type": "stream",
     "text": [
      "Model: \"sequential_8\"\n",
      "_________________________________________________________________\n",
      "Layer (type)                 Output Shape              Param #   \n",
      "=================================================================\n",
      "conv2d_4 (Conv2D)            (None, 28, 28, 32)        320       \n",
      "=================================================================\n",
      "Total params: 320\n",
      "Trainable params: 320\n",
      "Non-trainable params: 0\n",
      "_________________________________________________________________\n",
      "None\n",
      "Model: \"model_4\"\n",
      "_________________________________________________________________\n",
      "Layer (type)                 Output Shape              Param #   \n",
      "=================================================================\n",
      "input_4 (InputLayer)         (None, 784)               0         \n",
      "_________________________________________________________________\n",
      "dense_4 (Dense)              (None, 288)               226080    \n",
      "=================================================================\n",
      "Total params: 226,080\n",
      "Trainable params: 226,080\n",
      "Non-trainable params: 0\n",
      "_________________________________________________________________\n",
      "None\n"
     ]
    }
   ],
   "source": [
    "# input image size 28*28*1\n",
    "# one hidden layer(288 neuron)\n",
    "\n",
    "# 1.Build CNN model\n",
    "classifier = Sequential()\n",
    "\n",
    "# Convolution2D(numbers of convolution kernel, kernel_row, kernel_column)\n",
    "# 32 kernels, Kernel size 3*3，input image size 28*28*1(h,w,c)\n",
    "classifier.add(Convolution2D(filters=32, kernel_size=(3, 3), padding='same', input_shape=(28,28,1)))\n",
    "# input shape(4D) = input is (None,28,28,1)\n",
    "# output shape(4D) = output is (None,28,28,32)\n",
    "\n",
    "# 看CNN model結構\n",
    "print(classifier.summary())\n",
    "# Total params = (Kernel_row*column*channels+1)*Kernel numbers = (3*3*1+1)*32=320\n",
    "\n",
    "# 2.Build FC model\n",
    "classifier2 = Sequential()\n",
    "\n",
    "# input 28*28*1 flatten to 784\n",
    "inputs = Input(shape=(784,))\n",
    "# FC use (3*3*1)*32=288 neuron\n",
    "outputs = Dense(288)(inputs)\n",
    "\n",
    "model = Model(inputs=inputs, outputs=outputs)\n",
    "# input shape(2D) = input is (None,784)\n",
    "# output shape(2D) = output is (None,288)\n",
    "\n",
    "# 看FC model結構\n",
    "print(model.summary()) \n",
    "# Total params = image h*w * neuron + (bias) = 784*288+288=226080"
   ]
  },
  {
   "cell_type": "code",
   "execution_count": null,
   "metadata": {},
   "outputs": [],
   "source": []
  }
 ],
 "metadata": {
  "kernelspec": {
   "display_name": "Python 3",
   "language": "python",
   "name": "python3"
  },
  "language_info": {
   "codemirror_mode": {
    "name": "ipython",
    "version": 3
   },
   "file_extension": ".py",
   "mimetype": "text/x-python",
   "name": "python",
   "nbconvert_exporter": "python",
   "pygments_lexer": "ipython3",
   "version": "3.7.3"
  }
 },
 "nbformat": 4,
 "nbformat_minor": 2
}
