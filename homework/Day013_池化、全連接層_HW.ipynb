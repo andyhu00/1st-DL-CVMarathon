{
 "cells": [
  {
   "cell_type": "markdown",
   "metadata": {},
   "source": [
    "## 『作業內容』\n",
    "####   依照指示，搭建Maxpooling層與全連接層"
   ]
  },
  {
   "cell_type": "markdown",
   "metadata": {},
   "source": [
    "## 『目標』\n",
    "####   了解Maxpooling的原理與CNN、FC層連結的方式"
   ]
  },
  {
   "cell_type": "code",
   "execution_count": 2,
   "metadata": {},
   "outputs": [
    {
     "name": "stderr",
     "output_type": "stream",
     "text": [
      "Using TensorFlow backend.\n"
     ]
    }
   ],
   "source": [
    "from keras.models import Sequential    # for NN (neural network)\n",
    "from keras.layers import Conv2D        # convolution operation \n",
    "from keras.layers import MaxPooling2D  # pooling\n",
    "from keras.layers import Flatten\n",
    "from keras.layers import Dense         # Fully connected neural network"
   ]
  },
  {
   "cell_type": "code",
   "execution_count": 7,
   "metadata": {},
   "outputs": [],
   "source": [
    "# FC layer apply model.add(Flatten())\n",
    "input_shape = (32, 32, 3)\n",
    "input_shape = (32, 32, 3)\n",
    "\n",
    "# Build CNN model\n",
    "model = Sequential()\n",
    "\n",
    "# 1st convolution layer :\n",
    "# Convolution2D(numbers of convolution kernel, kernel_row, kernel_column)\n",
    "model.add(Conv2D(filters=32, kernel_size=(3, 3), padding='same', input_shape=input_shape)) #output_shape=(None, 32, 32, 32)\n",
    "model.add(MaxPooling2D(pool_size=(2,2), strides=(2,2))) #output_shape=(None, 16, 16, 32)\n",
    "# 1st convolution layer:Total params(參數量)=(Kernel_row*column*channels+1)*Kernel numbers=(3*3*3+1)*32=896\n",
    "\n",
    "# 2nd convolution layer : \n",
    "model.add(Conv2D(filters=64, kernel_size=(3, 3), padding='same')) #output_shape=(None, 16, 16, 64)\n",
    "model.add(MaxPooling2D(pool_size=(2,2), strides=(2,2))) #output_shape=(None, 8, 8, 64)\n",
    "# 2nd convolution layer:Total params(參數量)=(Kernel_row*column*channels+1)*Kernel numbers=(3*3*32+1)*64=18496\n",
    "\n",
    "# 3rd convolution layer :\n",
    "model.add(Conv2D(filters=128, kernel_size=(3, 3), padding='same')) #output_shape=(None, 8, 8, 128)\n",
    "model.add(MaxPooling2D(pool_size=(2,2), strides=(2,2)))  #output_shape=(None, 4, 4, 128)\n",
    "# 3rd convolution layer:Total params(參數量)=(Kernel_row*column*channels+1)*Kernel numbers=(3*3*64+1)*128=73856\n",
    "\n",
    "# 4th convolution layer :\n",
    "model.add(Conv2D(filters=10, kernel_size=(3, 3), padding='same')) #output_shape=(None, 4, 4, 10)\n",
    "# 4th convolution layer:Total params(參數量)=(Kernel_row*column*channels+1)*Kernel numbers=(3*3*128+1)*10=11530\n",
    "\n",
    "# FC layer : input 4*4*10, flatten to 160\n",
    "model.add(Flatten())  #output_shape=(None, 160)\n",
    "# model.add(GlobalAveragePooling2D())\n",
    "\n",
    "model.add(Dense(28)) # FC layer use 28 units as Neuron\n",
    "# FC layer:Total params(參數量)=input*ouput+bias=(4*4*10)*(28)+(28)=4508"
   ]
  },
  {
   "cell_type": "code",
   "execution_count": 8,
   "metadata": {},
   "outputs": [
    {
     "name": "stdout",
     "output_type": "stream",
     "text": [
      "Model: \"sequential_3\"\n",
      "_________________________________________________________________\n",
      "Layer (type)                 Output Shape              Param #   \n",
      "=================================================================\n",
      "conv2d_9 (Conv2D)            (None, 32, 32, 32)        896       \n",
      "_________________________________________________________________\n",
      "max_pooling2d_7 (MaxPooling2 (None, 16, 16, 32)        0         \n",
      "_________________________________________________________________\n",
      "conv2d_10 (Conv2D)           (None, 16, 16, 64)        18496     \n",
      "_________________________________________________________________\n",
      "max_pooling2d_8 (MaxPooling2 (None, 8, 8, 64)          0         \n",
      "_________________________________________________________________\n",
      "conv2d_11 (Conv2D)           (None, 8, 8, 128)         73856     \n",
      "_________________________________________________________________\n",
      "max_pooling2d_9 (MaxPooling2 (None, 4, 4, 128)         0         \n",
      "_________________________________________________________________\n",
      "conv2d_12 (Conv2D)           (None, 4, 4, 10)          11530     \n",
      "_________________________________________________________________\n",
      "flatten_2 (Flatten)          (None, 160)               0         \n",
      "_________________________________________________________________\n",
      "dense_3 (Dense)              (None, 28)                4508      \n",
      "=================================================================\n",
      "Total params: 109,286\n",
      "Trainable params: 109,286\n",
      "Non-trainable params: 0\n",
      "_________________________________________________________________\n"
     ]
    }
   ],
   "source": [
    "model.summary()"
   ]
  },
  {
   "cell_type": "code",
   "execution_count": null,
   "metadata": {},
   "outputs": [],
   "source": []
  }
 ],
 "metadata": {
  "kernelspec": {
   "display_name": "Python 3",
   "language": "python",
   "name": "python3"
  },
  "language_info": {
   "codemirror_mode": {
    "name": "ipython",
    "version": 3
   },
   "file_extension": ".py",
   "mimetype": "text/x-python",
   "name": "python",
   "nbconvert_exporter": "python",
   "pygments_lexer": "ipython3",
   "version": "3.7.3"
  }
 },
 "nbformat": 4,
 "nbformat_minor": 2
}
