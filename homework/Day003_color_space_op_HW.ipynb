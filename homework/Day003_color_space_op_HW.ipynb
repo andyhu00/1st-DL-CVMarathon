{
 "cells": [
  {
   "cell_type": "markdown",
   "metadata": {},
   "source": [
    "## 作業\n",
    "實作各種不一樣的方式來調整飽和 / 對比 / 明亮\n",
    "\n",
    "1. 改變 color space 來調整飽和度\n",
    "2. 實作直方圖均衡\n",
    "3. alpha/ beta 調整對比 / 明亮"
   ]
  },
  {
   "cell_type": "code",
   "execution_count": 2,
   "metadata": {},
   "outputs": [],
   "source": [
    "import cv2\n",
    "import numpy as np\n",
    "\n",
    "# Using lena.png\n",
    "img = 'img/lena.png'\n",
    "\n",
    "# default read as cv2.IMREAD_COLOR(彩色圖)\n",
    "img_bgr = cv2.imread(img, cv2.IMREAD_COLOR)"
   ]
  },
  {
   "cell_type": "markdown",
   "metadata": {},
   "source": [
    "## 調整飽和度"
   ]
  },
  {
   "cell_type": "code",
   "execution_count": 53,
   "metadata": {},
   "outputs": [],
   "source": [
    "# for changing saturation, need to transfer color space to HSL (openCV : cv2.COLOR_BGR2HLS)\n",
    "img_hls = cv2.cvtColor(img_bgr, cv2.COLOR_BGR2HLS)\n",
    "change_percent = 0.2\n",
    "\n",
    "# reducing 20% of saturation (saturation channel -> img_hls_down[:,:,-1])\n",
    "img_hls_down = img_hls.astype('float32') # transfer to 'float32' type before changing saturation\n",
    "img_hls_down[:,:,-1] = img_hls_down[:,:,-1] / 255 - change_percent # saturation/255(limit to 0~1),減少20%後可能有負數\n",
    "img_hls_down[:,:,-1][img_hls_down[:,:,-1] < 0] = 0\n",
    "img_hls_down[:,:,-1] = img_hls_down[:,:,-1]*255   # return to 0~255\n",
    "img_hls_down = img_hls_down.astype('uint8')       # return to uint8 type\n",
    "\n",
    "# increasing 20% of saturation\n",
    "img_hls_up = img_hls.astype('float32') \n",
    "img_hls_up[:,:,-1] = img_hls_up[:,:,-1] / 255 + change_percent # saturation/255(limit to 0~1),增加20%後可能>1\n",
    "img_hls_up[:,:,-1][img_hls_up[:,:,-1] > 1] = 1\n",
    "img_hls_up[:,:,-1] = img_hls_up[:,:,-1]*255 \n",
    "img_hls_up = img_hls_up.astype('uint8') \n",
    "\n",
    "# transfer color space return to BGR\n",
    "img_hls_down = cv2.cvtColor(img_hls_down, cv2.COLOR_HLS2BGR)\n",
    "img_hls_up = cv2.cvtColor(img_hls_up, cv2.COLOR_HLS2BGR)\n",
    "\n",
    "# 橫向組合圖片\n",
    "img_hls_new = np.hstack((img_bgr, img_hls_down, img_hls_up))\n",
    "\n",
    "while True :\n",
    "    # display of img_hsv, named as 'changing saturation'\n",
    "    cv2.imshow('changing saturation', img_hls_new)\n",
    "    \n",
    "    # waiting until to press any key then close the display window\n",
    "    if cv2.waitKey(0) : \n",
    "        cv2.destroyAllWindows()\n",
    "        break"
   ]
  },
  {
   "cell_type": "markdown",
   "metadata": {},
   "source": [
    "## 直方圖均衡(Histogram Equalization)\n",
    "- case 1 : histogram equalization by GARY image\n",
    "- case 2 : histogram equalization by value channel of HSV\n",
    "- case 3 : histogram equalization by each channel of BGR"
   ]
  },
  {
   "cell_type": "code",
   "execution_count": 10,
   "metadata": {},
   "outputs": [],
   "source": [
    "# case 1 : histogram equalization by GARY image\n",
    "# transfer color space to GRAY image -> 2D array\n",
    "img_gray = cv2.cvtColor(img_bgr, cv2.COLOR_BGR2GRAY)\n",
    "\n",
    "# histogram equalization by GARY image -> 增強對比\n",
    "img_gray_equal = cv2.equalizeHist(img_gray)\n",
    "\n",
    "# 橫向組合圖片\n",
    "img_gray_equal_new = np.hstack((img_gray, img_gray_equal))\n",
    "\n",
    "while True :\n",
    "    # display of img_gray_equal_new, named as 'gray equal histogram'\n",
    "    cv2.imshow('gray equal histogram', img_gray_equal_new)\n",
    "    \n",
    "    # waiting until to press any key then close the display window\n",
    "    if cv2.waitKey(0) : \n",
    "        cv2.destroyAllWindows()\n",
    "        break"
   ]
  },
  {
   "cell_type": "code",
   "execution_count": 63,
   "metadata": {},
   "outputs": [],
   "source": [
    "# case 2 : histogram equalization by value channel of HSV\n",
    "# transfer color space to HSV image (3D array)\n",
    "img_hsv = cv2.cvtColor(img_bgr, cv2.COLOR_BGR2HSV)\n",
    "img_hsv_v_equal = img_hsv.copy()\n",
    "\n",
    "# histogram equalization by value(brightness) channel of HSV image (2D array) -> 增強對比\n",
    "img_hsv_v_equal[:,:,2] = cv2.equalizeHist(img_hsv[:,:,2])\n",
    "\n",
    "# transfer color space return to BGR\n",
    "img_hsv_v_equal = cv2.cvtColor(img_hsv_v_equal, cv2.COLOR_HSV2BGR)\n",
    "\n",
    "# 橫向組合圖片\n",
    "img_hsv_v_equal_new = np.hstack((img_bgr, img_hsv_v_equal))\n",
    "\n",
    "while True :\n",
    "    # display of img_hsv_v_equal_new, named as 'hsv_v equal histogram'\n",
    "    cv2.imshow('hsv_v equal histogram', img_hsv_v_equal_new)\n",
    "    \n",
    "    # waiting until to press any key then close the display window\n",
    "    if cv2.waitKey(0) : \n",
    "        cv2.destroyAllWindows()\n",
    "        break"
   ]
  },
  {
   "cell_type": "code",
   "execution_count": 3,
   "metadata": {},
   "outputs": [],
   "source": [
    "# case 3 : histogram equalization by each channel of BGR\n",
    "\n",
    "# histogram equalization by each bgr channel(2D array)(512,512) -> 增強對比\n",
    "img_bgr_channel = [img_bgr[:,:,0], img_bgr[:,:,1], img_bgr[:,:,2]]\n",
    "equalHist_by_bgr = [cv2.equalizeHist(i) for i in img_bgr_channel]\n",
    "# stack of img_bgr[:,:,0], img_bgr[:,:,1], img_bgr[:,:,2]) -> result become as 3D array\n",
    "# axis=-1 means the new axis will be the last dimension(512,512,3)\n",
    "img_bgr_equal = np.stack((equalHist_by_bgr), axis=-1)\n",
    "\n",
    "# 橫向組合圖片\n",
    "img_bgr_equal_new = np.hstack((img_bgr, img_bgr_equal))\n",
    "\n",
    "while True :\n",
    "    # display of img_bgr_equal_new, named as 'bgr equal histogram'\n",
    "    cv2.imshow('bgr equal histogram', img_bgr_equal_new)\n",
    "    \n",
    "    # waiting until to press any key then close the display window\n",
    "    if cv2.waitKey(0) : \n",
    "        cv2.destroyAllWindows()\n",
    "        break"
   ]
  },
  {
   "cell_type": "markdown",
   "metadata": {},
   "source": [
    "## 調整對比度 & 明亮度"
   ]
  },
  {
   "cell_type": "code",
   "execution_count": 57,
   "metadata": {},
   "outputs": [],
   "source": [
    "# adjusting contrast by alpha(1~3), adjusting lightness by beta(0~255)\n",
    "add_contrast = cv2.convertScaleAbs(img_bgr, alpha=1.0, beta=50.0)\n",
    "add_lightness = cv2.convertScaleAbs(img_bgr, alpha=2.0, beta=0.0)\n",
    "\n",
    "# 橫向組合圖片\n",
    "img_contrast_lightness_new = np.hstack((img_bgr, add_contrast, add_lightness))\n",
    "\n",
    "while True :\n",
    "    # display of img_gray_equal_new, named as 'gray equal histogram'\n",
    "    cv2.imshow('adjusting contrast & lightness', img_contrast_lightness_new)\n",
    "    \n",
    "    # waiting until to press any key then close the display window\n",
    "    if cv2.waitKey(0) : \n",
    "        cv2.destroyAllWindows()\n",
    "        break"
   ]
  },
  {
   "cell_type": "code",
   "execution_count": null,
   "metadata": {},
   "outputs": [],
   "source": []
  }
 ],
 "metadata": {
  "kernelspec": {
   "display_name": "Python 3",
   "language": "python",
   "name": "python3"
  },
  "language_info": {
   "codemirror_mode": {
    "name": "ipython",
    "version": 3
   },
   "file_extension": ".py",
   "mimetype": "text/x-python",
   "name": "python",
   "nbconvert_exporter": "python",
   "pygments_lexer": "ipython3",
   "version": "3.7.3"
  }
 },
 "nbformat": 4,
 "nbformat_minor": 2
}
