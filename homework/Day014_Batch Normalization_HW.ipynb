{
 "cells": [
  {
   "cell_type": "markdown",
   "metadata": {},
   "source": [
    "## 『本次練習內容』\n",
    "#### 搭建 Conv2D-BN-Activation層"
   ]
  },
  {
   "cell_type": "markdown",
   "metadata": {},
   "source": [
    "## 『本次練習目的』\n",
    "  #### 了解如何搭建CNN基礎架構，Conv2D-BN-Activation"
   ]
  },
  {
   "cell_type": "code",
   "execution_count": 2,
   "metadata": {},
   "outputs": [],
   "source": [
    "from keras.models import Sequential    # for NN (neural network)\n",
    "from keras.layers import Conv2D        # convolution operation \n",
    "from keras.layers import MaxPooling2D  # pooling\n",
    "from keras.layers import Flatten\n",
    "from keras.layers import Dense         # Fully connected neural network\n",
    "from keras.layers import BatchNormalization\n",
    "from keras.layers import Activation"
   ]
  },
  {
   "cell_type": "markdown",
   "metadata": {},
   "source": [
    "## 依照指示建立模型"
   ]
  },
  {
   "cell_type": "code",
   "execution_count": 9,
   "metadata": {},
   "outputs": [
    {
     "name": "stdout",
     "output_type": "stream",
     "text": [
      "Model: \"sequential_4\"\n",
      "_________________________________________________________________\n",
      "Layer (type)                 Output Shape              Param #   \n",
      "=================================================================\n",
      "conv2d_5 (Conv2D)            (None, 32, 32, 32)        896       \n",
      "_________________________________________________________________\n",
      "batch_normalization_5 (Batch (None, 32, 32, 32)        128       \n",
      "_________________________________________________________________\n",
      "activation_5 (Activation)    (None, 32, 32, 32)        0         \n",
      "_________________________________________________________________\n",
      "conv2d_6 (Conv2D)            (None, 32, 32, 32)        9248      \n",
      "_________________________________________________________________\n",
      "batch_normalization_6 (Batch (None, 32, 32, 32)        128       \n",
      "_________________________________________________________________\n",
      "activation_6 (Activation)    (None, 32, 32, 32)        0         \n",
      "=================================================================\n",
      "Total params: 10,400\n",
      "Trainable params: 10,272\n",
      "Non-trainable params: 128\n",
      "_________________________________________________________________\n"
     ]
    }
   ],
   "source": [
    "input_shape = (32, 32, 3)\n",
    "\n",
    "# Build CNN model\n",
    "model = Sequential()\n",
    "\n",
    "# Build Conv2D-BN-Activation('sigmoid') \n",
    "# 1st convolution layer(input layer) :\n",
    "# Convolution2D(numbers of convolution kernel, kernel_row, kernel_column)\n",
    "model.add(Conv2D(filters=32, kernel_size=(3, 3), padding='same', input_shape=input_shape)) #output_shape=(None, 32, 32, 32)\n",
    "# 1st convolution layer:Total params(參數量)=(Kernel_row*column*channels+1)*Kernel numbers=(3*3*3+1)*32=896\n",
    "\n",
    "# BatchNormalization : normalize the input to activation function\n",
    "model.add(BatchNormalization())\n",
    "\n",
    "# Activation function : use sigmoid\n",
    "model.add(Activation('sigmoid'))\n",
    "\n",
    "# 搭建 Conv2D-BN-Activation('relu')\n",
    "# 2nd convolution layer(output layer) :\n",
    "model.add(Conv2D(filters=32, kernel_size=(3, 3), padding='same'))\n",
    "# BatchNormalization : normalize the input to activation function\n",
    "model.add(BatchNormalization())\n",
    "# Activation function : use relu\n",
    "model.add(Activation('relu'))\n",
    "# 2nd convolution layer:Total params(參數量)=(Kernel_row*column*channels+1)*Kernel numbers=(3*3*32+1)*32=9248\n",
    "\n",
    "model.summary()"
   ]
  },
  {
   "cell_type": "code",
   "execution_count": null,
   "metadata": {},
   "outputs": [],
   "source": []
  }
 ],
 "metadata": {
  "kernelspec": {
   "display_name": "Python 3",
   "language": "python",
   "name": "python3"
  },
  "language_info": {
   "codemirror_mode": {
    "name": "ipython",
    "version": 3
   },
   "file_extension": ".py",
   "mimetype": "text/x-python",
   "name": "python",
   "nbconvert_exporter": "python",
   "pygments_lexer": "ipython3",
   "version": "3.7.3"
  }
 },
 "nbformat": 4,
 "nbformat_minor": 2
}
