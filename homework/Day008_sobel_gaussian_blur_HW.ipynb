{
 "cells": [
  {
   "cell_type": "markdown",
   "metadata": {},
   "source": [
    "## 作業\n",
    "\n",
    "實作模糊與邊緣檢測\n",
    "\n",
    "- 透過 Gaussian Filter 實作模糊操作\n",
    "- 透過 Sobel Filter 實作邊緣檢測"
   ]
  },
  {
   "cell_type": "code",
   "execution_count": 7,
   "metadata": {},
   "outputs": [],
   "source": [
    "import cv2\n",
    "import numpy as np\n",
    "\n",
    "# Using lena.png\n",
    "img = 'img/lena.png'\n",
    "\n",
    "# default read as cv2.IMREAD_COLOR(彩色圖)\n",
    "img_bgr = cv2.imread(img, cv2.IMREAD_COLOR)"
   ]
  },
  {
   "cell_type": "markdown",
   "metadata": {},
   "source": [
    "## 模糊"
   ]
  },
  {
   "cell_type": "code",
   "execution_count": 8,
   "metadata": {},
   "outputs": [],
   "source": [
    "img_blur = img_bgr.copy()\n",
    "\n",
    "# To do the more Gaussian blur function to get the more blurred image \n",
    "img_blur = cv2.GaussianBlur(img_blur, (5,5), 0)\n",
    "img_blur = cv2.GaussianBlur(img_blur, (5,5), 0)\n",
    "img_blur = cv2.GaussianBlur(img_blur, (5,5), 0)\n",
    "\n",
    "# 橫向組合圖片\n",
    "img_blur_new = np.hstack((img_bgr, img_blur))\n",
    "\n",
    "while True :\n",
    "    # display of img_blur_new, named as 'Gaussian Blur'\n",
    "    cv2.imshow('Gaussian Blur', img_blur_new)\n",
    "    \n",
    "    # waiting until to press any key then close the display window\n",
    "    if cv2.waitKey(0) : \n",
    "        cv2.destroyAllWindows()\n",
    "        break"
   ]
  },
  {
   "cell_type": "markdown",
   "metadata": {},
   "source": [
    "## 邊緣檢測\n",
    "組合 x-axis, y-axis 的影像合成"
   ]
  },
  {
   "cell_type": "code",
   "execution_count": 9,
   "metadata": {},
   "outputs": [],
   "source": [
    "# transfer color space to GRAY image -> 2D array\n",
    "img_gray = cv2.cvtColor(img_bgr, cv2.COLOR_BGR2GRAY)\n",
    "\n",
    "# Sobel edge detect for x_axis (dx=1, to do x_derivative)\n",
    "img_sobel_x = cv2.Sobel(img_gray, cv2.CV_16S, dx=1, dy=0, ksize=3)\n",
    "# return to uint8 type\n",
    "img_sobel_x = cv2.convertScaleAbs(img_sobel_x)\n",
    "\n",
    "# Sobel edge detect for x_axis (dy=1, to do y_derivative)\n",
    "img_sobel_y = cv2.Sobel(img_gray, cv2.CV_16S, dx=0, dy=1, ksize=3)\n",
    "# return to uint8 type\n",
    "img_sobel_y = cv2.convertScaleAbs(img_sobel_y)\n",
    "\n",
    "# combine the img_sobel_x * weight(0.5) and img_sobel_y * weight(0.5) \n",
    "img_sobel_combine = cv2.addWeighted(img_sobel_x, 0.5, img_sobel_y, 0.5, 0)\n",
    "\n",
    "# 橫向組合圖片\n",
    "img_sobel_combine_new = np.hstack((img_sobel_x, img_sobel_y, img_sobel_combine))\n",
    "\n",
    "while True :\n",
    "    # display of img_sobel_combine_new, named as 'Sobel Edge Detection'\n",
    "    cv2.imshow('Sobel Edge Detection', img_sobel_combine_new)\n",
    "\n",
    "    # waiting until to press any key then close the display window\n",
    "    if cv2.waitKey(0) : \n",
    "        cv2.destroyAllWindows()\n",
    "        break"
   ]
  },
  {
   "cell_type": "markdown",
   "metadata": {},
   "source": [
    "## 比較一次導數&二次導數的結果"
   ]
  },
  {
   "cell_type": "code",
   "execution_count": 10,
   "metadata": {},
   "outputs": [],
   "source": [
    "# transfer color space to GRAY image -> 2D array\n",
    "img_gray = cv2.cvtColor(img_bgr, cv2.COLOR_BGR2GRAY)\n",
    "\n",
    "# Sobel edge detect for x_axis (dx=2, to do x_Second_derivative)\n",
    "img_sobel_x2 = cv2.Sobel(img_gray, cv2.CV_16S, dx=2, dy=0, ksize=3)\n",
    "# return to uint8 type\n",
    "img_sobel_x2 = cv2.convertScaleAbs(img_sobel_x2)\n",
    "\n",
    "# Sobel edge detect for x_axis (dy=2, to do y_Second_derivative)\n",
    "img_sobel_y2 = cv2.Sobel(img_gray, cv2.CV_16S, dx=0, dy=2, ksize=3)\n",
    "# return to uint8 type\n",
    "img_sobel_y2 = cv2.convertScaleAbs(img_sobel_y2)\n",
    "\n",
    "# combine the img_sobel_x * weight(0.5) and img_sobel_y * weight(0.5)\n",
    "img_sobel_combine2 = cv2.addWeighted(img_sobel_x2, 0.5, img_sobel_y2, 0.5, 0)\n",
    "\n",
    "# 橫向組合圖片\n",
    "img_sobel_combine2_new = np.hstack((img_gray, img_sobel_combine, img_sobel_combine2))\n",
    "\n",
    "while True :\n",
    "    # display of img_sobel_combine2_new, named as 'Sobel Edge Detection'\n",
    "    cv2.imshow('Sobel Edge Detection', img_sobel_combine2_new)\n",
    "\n",
    "    # waiting until to press any key then close the display window\n",
    "    if cv2.waitKey(0) : \n",
    "        cv2.destroyAllWindows()\n",
    "        break"
   ]
  },
  {
   "cell_type": "markdown",
   "metadata": {},
   "source": [
    "## 比較 Sobel 如果在 uint8 的情況下做會 overflow 的狀況"
   ]
  },
  {
   "cell_type": "code",
   "execution_count": 11,
   "metadata": {},
   "outputs": [],
   "source": [
    "# transfer color space to GRAY image -> 2D array\n",
    "img_gray = cv2.cvtColor(img_bgr, cv2.COLOR_BGR2GRAY)\n",
    "\n",
    "# Sobel edge detect for x_axis (dx=1, to do x_derivative), ddepth keep to uint8 \n",
    "img_sobel_x_uint8 = cv2.Sobel(img_gray, ddepth=cv2.CV_8U, dx=1, dy=0, ksize=3)\n",
    "\n",
    "# Sobel edge detect for x_axis (dx=1, to do x_derivative), ddepth keep to uint8 \n",
    "img_sobel_y_uint8 = cv2.Sobel(img_gray, ddepth=cv2.CV_8U, dx=0, dy=1, ksize=3)\n",
    "\n",
    "# combine the img_sobel_x * weight(0.5) and img_sobel_y * weight(0.5)\n",
    "img_sobel_combine_uint8 = cv2.addWeighted(img_sobel_x_uint8, 0.5, img_sobel_y_uint8, 0.5, 0)\n",
    "\n",
    "# 橫向組合圖片\n",
    "img_sobel_combine_uint8_new = np.hstack((img_gray, img_sobel_combine, img_sobel_combine_uint8))\n",
    "\n",
    "while True :\n",
    "    # display of img_sobel_combine_uint8_new, named as 'Sobel Edge Detection'\n",
    "    cv2.imshow('Sobel Edge Detection', img_sobel_combine_uint8_new)\n",
    "\n",
    "    # waiting until to press any key then close the display window\n",
    "    if cv2.waitKey(0) : \n",
    "        cv2.destroyAllWindows()\n",
    "        break"
   ]
  },
  {
   "cell_type": "code",
   "execution_count": null,
   "metadata": {},
   "outputs": [],
   "source": []
  }
 ],
 "metadata": {
  "kernelspec": {
   "display_name": "Python 3",
   "language": "python",
   "name": "python3"
  },
  "language_info": {
   "codemirror_mode": {
    "name": "ipython",
    "version": 3
   },
   "file_extension": ".py",
   "mimetype": "text/x-python",
   "name": "python",
   "nbconvert_exporter": "python",
   "pygments_lexer": "ipython3",
   "version": "3.7.3"
  }
 },
 "nbformat": 4,
 "nbformat_minor": 2
}
