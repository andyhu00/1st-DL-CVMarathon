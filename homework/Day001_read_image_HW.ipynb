{
 "cells": [
  {
   "cell_type": "markdown",
   "metadata": {},
   "source": [
    "## 作業\n",
    "思考一下我們前面有提到圖片是矩陣，但維度可能會不一樣 例如灰階圖只有兩個維度，RGB 彩圖則有 3 個維度\n",
    "\n",
    "假如今天我們把 RGB 3 個維度拆開來看會有甚麼不同的效果呢？\n",
    "\n",
    "使用 lena png :\n",
    "- http://optipng.sourceforge.net/pngtech/img/lena.png"
   ]
  },
  {
   "cell_type": "code",
   "execution_count": 8,
   "metadata": {},
   "outputs": [],
   "source": [
    "import cv2\n",
    "\n",
    "# Using lena.png\n",
    "img = 'img/lena.png'\n",
    "\n",
    "# default read as cv2.IMREAD_COLOR(彩色圖)\n",
    "img_bgr = cv2.imread(img, cv2.IMREAD_COLOR)\n",
    "\n",
    "# read as cv2.IMREAD_GRAYSCALE(灰階圖)\n",
    "img_gray = cv2.imread(img, cv2.IMREAD_GRAYSCALE)\n",
    "\n",
    "while True :\n",
    "    # display of img_bgr, named as 'bgr'\n",
    "    cv2.imshow('bgr', img_bgr)\n",
    "\n",
    "    # display of img_gray, named as 'gray'\n",
    "    cv2.imshow('gray', img_gray)\n",
    "    \n",
    "    # dispalys for 3 channels of bgr_b, bgr_g, bgr_r\n",
    "    cv2.imshow('bgr_b', img_bgr[:,:,0])\n",
    "    cv2.imshow('bgr_g', img_bgr[:,:,1])\n",
    "    cv2.imshow('bgr_r', img_bgr[:,:,2])\n",
    "\n",
    "    # waiting until to press any key then close the display window\n",
    "    if cv2.waitKey(0) : \n",
    "        cv2.destroyAllWindows()\n",
    "        break"
   ]
  },
  {
   "cell_type": "code",
   "execution_count": null,
   "metadata": {},
   "outputs": [],
   "source": []
  }
 ],
 "metadata": {
  "kernelspec": {
   "display_name": "Python 3",
   "language": "python",
   "name": "python3"
  },
  "language_info": {
   "codemirror_mode": {
    "name": "ipython",
    "version": 3
   },
   "file_extension": ".py",
   "mimetype": "text/x-python",
   "name": "python",
   "nbconvert_exporter": "python",
   "pygments_lexer": "ipython3",
   "version": "3.7.3"
  }
 },
 "nbformat": 4,
 "nbformat_minor": 2
}
