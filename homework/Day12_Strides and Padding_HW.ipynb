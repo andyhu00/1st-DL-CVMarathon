{
 "cells": [
  {
   "cell_type": "markdown",
   "metadata": {},
   "source": [
    "## 『作業內容』\n",
    "####   依照指示，透過調整Padding、Strides參數控制輸出Feature map大小"
   ]
  },
  {
   "cell_type": "markdown",
   "metadata": {},
   "source": [
    "## 『目標』\n",
    "####   了解輸出feature map尺寸變化原理"
   ]
  },
  {
   "cell_type": "code",
   "execution_count": 2,
   "metadata": {},
   "outputs": [
    {
     "name": "stderr",
     "output_type": "stream",
     "text": [
      "Using TensorFlow backend.\n"
     ]
    }
   ],
   "source": [
    "from keras.models import Sequential\n",
    "from keras.layers import Convolution2D\n",
    "from keras.layers import Input, Dense\n",
    "from keras.models import Model"
   ]
  },
  {
   "cell_type": "code",
   "execution_count": 3,
   "metadata": {},
   "outputs": [
    {
     "name": "stdout",
     "output_type": "stream",
     "text": [
      "Model: \"model_1\"\n",
      "_________________________________________________________________\n",
      "Layer (type)                 Output Shape              Param #   \n",
      "=================================================================\n",
      "input_1 (InputLayer)         (None, 13, 13, 1)         0         \n",
      "_________________________________________________________________\n",
      "conv2d_1 (Conv2D)            (None, 13, 13, 32)        1184      \n",
      "=================================================================\n",
      "Total params: 1,184\n",
      "Trainable params: 1,184\n",
      "Non-trainable params: 0\n",
      "_________________________________________________________________\n",
      "None\n",
      "Model: \"model_2\"\n",
      "_________________________________________________________________\n",
      "Layer (type)                 Output Shape              Param #   \n",
      "=================================================================\n",
      "input_2 (InputLayer)         (None, 13, 13, 1)         0         \n",
      "_________________________________________________________________\n",
      "conv2d_2 (Conv2D)            (None, 7, 7, 32)          1184      \n",
      "=================================================================\n",
      "Total params: 1,184\n",
      "Trainable params: 1,184\n",
      "Non-trainable params: 0\n",
      "_________________________________________________________________\n",
      "None\n",
      "Model: \"model_3\"\n",
      "_________________________________________________________________\n",
      "Layer (type)                 Output Shape              Param #   \n",
      "=================================================================\n",
      "input_3 (InputLayer)         (None, 13, 13, 1)         0         \n",
      "_________________________________________________________________\n",
      "conv2d_3 (Conv2D)            (None, 8, 8, 32)          1184      \n",
      "=================================================================\n",
      "Total params: 1,184\n",
      "Trainable params: 1,184\n",
      "Non-trainable params: 0\n",
      "_________________________________________________________________\n",
      "None\n",
      "Model: \"model_4\"\n",
      "_________________________________________________________________\n",
      "Layer (type)                 Output Shape              Param #   \n",
      "=================================================================\n",
      "input_4 (InputLayer)         (None, 13, 13, 1)         0         \n",
      "_________________________________________________________________\n",
      "conv2d_4 (Conv2D)            (None, 4, 4, 32)          1184      \n",
      "=================================================================\n",
      "Total params: 1,184\n",
      "Trainable params: 1,184\n",
      "Non-trainable params: 0\n",
      "_________________________________________________________________\n",
      "None\n"
     ]
    }
   ],
   "source": [
    "# kernel size = (6,6)\n",
    "# kernel 數量：32\n",
    "\n",
    "# Build CNN model\n",
    "classifier1 = Sequential()\n",
    "\n",
    "# 1.padding = 'same', strides = (1,1)\n",
    "inputs = Input(shape=(13,13,1))\n",
    "# Convolution2D(numbers of convolution kernel, kernel_row, kernel_column)\n",
    "outputs = Convolution2D(filters=32, kernel_size=(6,6), padding='same', strides=(1,1))(inputs)\n",
    "\n",
    "model = Model(inputs=inputs, outputs=outputs)\n",
    "# input shape(4D) = samples,h,w,c (input is:None,13,13,1)\n",
    "# output shape(4D) = samples,h,w,kernel_numbers (output is:None,13,13,32)\n",
    "\n",
    "# 看CNN model結構\n",
    "print(model.summary())\n",
    "# Total params = (Kernel_row*column*channels+1)*Kernel numbers(為kernel張數) = (6*6*1+1)*32=1184\n",
    "\n",
    "# 2.padding = 'same', strides = (2,2) -> Strides set to (2,2), output h,w become to 1/2, total parameters are same \n",
    "inputs = Input(shape=(13,13,1))\n",
    "outputs = Convolution2D(filters=32, kernel_size=(6,6), padding='same', strides=(2,2))(inputs)\n",
    "model = Model(inputs=inputs, outputs=outputs)\n",
    "# 看CNN model結構\n",
    "print(model.summary())\n",
    "\n",
    "# 3.padding = 'valid', strides = (1,1) -> Padding set to valid, output shape decrease, total parameters are same\n",
    "inputs = Input(shape=(13,13,1))\n",
    "outputs = Convolution2D(filters=32, kernel_size=(6,6), padding='valid', strides=(1,1))(inputs)\n",
    "model = Model(inputs=inputs, outputs=outputs)\n",
    "# 看CNN model結構\n",
    "print(model.summary())\n",
    "\n",
    "# 4.padding = 'valid', strides = (2,2) -> Strides set to (2,2), output h,w become to 1/2, total parameters are same \n",
    "inputs = Input(shape=(13,13,1))\n",
    "outputs = Convolution2D(filters=32, kernel_size=(6,6), padding='valid', strides=(2,2))(inputs)\n",
    "model = Model(inputs=inputs, outputs=outputs)\n",
    "# 看CNN model結構\n",
    "print(model.summary())"
   ]
  },
  {
   "cell_type": "code",
   "execution_count": null,
   "metadata": {},
   "outputs": [],
   "source": []
  }
 ],
 "metadata": {
  "kernelspec": {
   "display_name": "Python 3",
   "language": "python",
   "name": "python3"
  },
  "language_info": {
   "codemirror_mode": {
    "name": "ipython",
    "version": 3
   },
   "file_extension": ".py",
   "mimetype": "text/x-python",
   "name": "python",
   "nbconvert_exporter": "python",
   "pygments_lexer": "ipython3",
   "version": "3.7.3"
  }
 },
 "nbformat": 4,
 "nbformat_minor": 2
}
