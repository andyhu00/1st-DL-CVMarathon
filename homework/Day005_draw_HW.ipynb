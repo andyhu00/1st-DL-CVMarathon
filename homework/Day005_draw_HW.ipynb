{
 "cells": [
  {
   "cell_type": "markdown",
   "metadata": {},
   "source": [
    "## 作業\n",
    "\n",
    "Hint: 人物原始邊框座標 (60, 40), (420, 510)\n",
    "\n",
    "請根據 Lena 圖做以下處理\n",
    "\n",
    "- 對明亮度做直方圖均衡處理\n",
    "- 水平鏡像 + 縮放處理 (0.5 倍)\n",
    "- 畫出人物矩形邊框"
   ]
  },
  {
   "cell_type": "code",
   "execution_count": 1,
   "metadata": {},
   "outputs": [],
   "source": [
    "import cv2\n",
    "import numpy as np\n",
    "\n",
    "# Using lena.png\n",
    "img = 'img/lena.png'\n",
    "\n",
    "# default read as cv2.IMREAD_COLOR(彩色圖)\n",
    "img_bgr = cv2.imread(img, cv2.IMREAD_COLOR)"
   ]
  },
  {
   "cell_type": "code",
   "execution_count": 3,
   "metadata": {},
   "outputs": [],
   "source": [
    "# Drawing Rectangle :\n",
    "img_rect = img_bgr.copy()\n",
    "# cv2.rectangle(original image, rect-left-up(x,y), rect-right-down(x,y), rect-color, rect-thickenss)\n",
    "start_point = (60, 40) \n",
    "end_point = (420, 510) \n",
    "color = (0, 0, 255)    \n",
    "thickness = 3          \n",
    "cv2.rectangle(img_rect, start_point, end_point, color, thickness)\n",
    "\n",
    "while True :\n",
    "    # display of img_rect, named as 'image with rect'\n",
    "    cv2.imshow('image with rect', img_rect)\n",
    "    \n",
    "    # waiting until to press any key then close the display window\n",
    "    if cv2.waitKey(0) : \n",
    "        cv2.destroyAllWindows()\n",
    "        break"
   ]
  },
  {
   "cell_type": "code",
   "execution_count": 4,
   "metadata": {},
   "outputs": [],
   "source": [
    "# Drawing Line :\n",
    "img_line = img_bgr.copy()\n",
    "# cv2.rectangle(original image, line-left-up(x,y), line-right-down(x,y), line-color, line-thickenss)\n",
    "start_point = (60, 40) \n",
    "end_point = (420, 510)\n",
    "color = (0, 0, 255)    \n",
    "thickness = 3          \n",
    "cv2.line(img_line, start_point, end_point, color, thickness)\n",
    "\n",
    "while True :\n",
    "    # display of img_line, named as 'image with line'\n",
    "    cv2.imshow('image with line', img_line)\n",
    "    \n",
    "    # waiting until to press any key then close the display window\n",
    "    if cv2.waitKey(0) : \n",
    "        cv2.destroyAllWindows()\n",
    "        break"
   ]
  },
  {
   "cell_type": "code",
   "execution_count": 6,
   "metadata": {},
   "outputs": [],
   "source": [
    "# Drawing Text :\n",
    "img_text = img_bgr.copy()\n",
    "# cv2.rectangle(original image, text, text_coordinate(x,y), font, font_size, text-color, text-thickenss)\n",
    "text = '(64, 40)' \n",
    "text_coordinate = (64, 40)\n",
    "font = 0\n",
    "font_size = 1\n",
    "color = (255, 0, 0)    \n",
    "thickness = 2          \n",
    "cv2.putText(img_text, text, text_coordinate, font, font_size, color, thickness)\n",
    "\n",
    "while True :\n",
    "    # display of img_text, named as 'image with text'\n",
    "    cv2.imshow('image with text', img_text)\n",
    "    \n",
    "    # waiting until to press any key then close the display window\n",
    "    if cv2.waitKey(0) : \n",
    "        cv2.destroyAllWindows()\n",
    "        break"
   ]
  },
  {
   "cell_type": "code",
   "execution_count": 2,
   "metadata": {},
   "outputs": [],
   "source": [
    "img_equal_rect = img_bgr.copy()\n",
    "\n",
    "# transfer color space to HSV image (3D array)\n",
    "img_equal_rect = cv2.cvtColor(img_equal_rect, cv2.COLOR_BGR2HSV)\n",
    "# histogram equalization by value(brightness) channel of HSV image (2D array) -> 增強對比\n",
    "img_equal_rect[:,:,2] = cv2.equalizeHist(img_equal_rect[:,:,2])\n",
    "\n",
    "# transfer color space return to BGR\n",
    "img_equal_rect = cv2.cvtColor(img_equal_rect, cv2.COLOR_HSV2BGR)\n",
    "\n",
    "# cv2.rectangle(original image, line-left-up(x,y), line-right-down(x,y), line-color, line-thickenss)\n",
    "start_point = (60, 40) \n",
    "end_point = (420, 510) \n",
    "color = (0, 0, 255)    \n",
    "thickness = 3          \n",
    "cv2.rectangle(img_equal_rect, start_point, end_point, color, thickness)\n",
    "\n",
    "# horizontal flip(水平翻轉) -> 矩形框跟著水平翻轉\n",
    "# img_bgr[h, w, channel], w reversed which means horizontal flip\n",
    "img_equal_rect = img_equal_rect[:, ::-1, :]\n",
    "\n",
    "# resize to 50% of original image -> 矩形框跟著resize\n",
    "img_equal_rect = cv2.resize(img_equal_rect, None, fx=0.5, fy=0.5, interpolation=cv2.INTER_LINEAR)\n",
    "\n",
    "while True :\n",
    "    # display of img_equal_rect, named as 'img equal then rect & mirror & zoom'\n",
    "    cv2.imshow('img equal then rect & mirror & zoom', img_equal_rect)\n",
    "    \n",
    "    # waiting until to press any key then close the display window\n",
    "    if cv2.waitKey(0) : \n",
    "        cv2.destroyAllWindows()\n",
    "        break"
   ]
  },
  {
   "cell_type": "code",
   "execution_count": null,
   "metadata": {},
   "outputs": [],
   "source": []
  }
 ],
 "metadata": {
  "kernelspec": {
   "display_name": "Python 3",
   "language": "python",
   "name": "python3"
  },
  "language_info": {
   "codemirror_mode": {
    "name": "ipython",
    "version": 3
   },
   "file_extension": ".py",
   "mimetype": "text/x-python",
   "name": "python",
   "nbconvert_exporter": "python",
   "pygments_lexer": "ipython3",
   "version": "3.7.3"
  }
 },
 "nbformat": 4,
 "nbformat_minor": 2
}
