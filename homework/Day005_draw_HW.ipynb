{
 "cells": [
  {
   "cell_type": "markdown",
   "metadata": {},
   "source": [
    "## 作業\n",
    "\n",
    "Hint: 人物原始邊框座標 (60, 40), (420, 510)\n",
    "\n",
    "請根據 Lena 圖做以下處理\n",
    "\n",
    "- 對明亮度做直方圖均衡處理\n",
    "- 水平鏡像 + 縮放處理 (0.5 倍)\n",
    "- 畫出人物矩形邊框"
   ]
  },
  {
   "cell_type": "code",
   "execution_count": 2,
   "metadata": {},
   "outputs": [],
   "source": [
    "import cv2\n",
    "import numpy as np\n",
    "\n",
    "# Using lena.png\n",
    "img = 'img/lena.png'\n",
    "\n",
    "# default read as cv2.IMREAD_COLOR(彩色圖)\n",
    "img_bgr = cv2.imread(img, cv2.IMREAD_COLOR)"
   ]
  },
  {
   "cell_type": "code",
   "execution_count": 3,
   "metadata": {},
   "outputs": [],
   "source": [
    "# Drawing Rectangle :\n",
    "img_rect = img_bgr.copy()\n",
    "# cv2.rectangle(original image, rect-left-up(x,y), rect-right-down(x,y), rect-color, rect-thickenss)\n",
    "start_point = (60, 40) \n",
    "end_point = (420, 510) \n",
    "color = (0, 0, 255)    \n",
    "thickness = 3          \n",
    "cv2.rectangle(img_rect, start_point, end_point, color, thickness)\n",
    "\n",
    "while True :\n",
    "    # display of img_rect, named as 'image with rect'\n",
    "    cv2.imshow('image with rect', img_rect)\n",
    "    \n",
    "    # waiting until to press any key then close the display window\n",
    "    if cv2.waitKey(0) : \n",
    "        cv2.destroyAllWindows()\n",
    "        break"
   ]
  },
  {
   "cell_type": "code",
   "execution_count": 4,
   "metadata": {},
   "outputs": [],
   "source": [
    "# Drawing Line :\n",
    "img_line = img_bgr.copy()\n",
    "# cv2.rectangle(original image, line-left-up(x,y), line-right-down(x,y), line-color, line-thickenss)\n",
    "start_point = (60, 40) \n",
    "end_point = (420, 510)\n",
    "color = (0, 0, 255)    \n",
    "thickness = 3          \n",
    "cv2.line(img_line, start_point, end_point, color, thickness)\n",
    "\n",
    "while True :\n",
    "    # display of img_line, named as 'image with line'\n",
    "    cv2.imshow('image with line', img_line)\n",
    "    \n",
    "    # waiting until to press any key then close the display window\n",
    "    if cv2.waitKey(0) : \n",
    "        cv2.destroyAllWindows()\n",
    "        break"
   ]
  },
  {
   "cell_type": "code",
   "execution_count": 6,
   "metadata": {},
   "outputs": [],
   "source": [
    "# Drawing Text :\n",
    "img_text = img_bgr.copy()\n",
    "# cv2.rectangle(original image, text, text_coordinate(x,y), font, font_size, text-color, text-thickenss)\n",
    "text = '(64, 40)' \n",
    "text_coordinate = (64, 40)\n",
    "font = 0\n",
    "font_size = 1\n",
    "color = (255, 0, 0)    \n",
    "thickness = 2          \n",
    "cv2.putText(img_text, text, text_coordinate, font, font_size, color, thickness)\n",
    "\n",
    "while True :\n",
    "    # display of img_text, named as 'image with text'\n",
    "    cv2.imshow('image with text', img_text)\n",
    "    \n",
    "    # waiting until to press any key then close the display window\n",
    "    if cv2.waitKey(0) : \n",
    "        cv2.destroyAllWindows()\n",
    "        break"
   ]
  },
  {
   "cell_type": "markdown",
   "metadata": {},
   "source": [
    "## 解法一 :\n",
    "1. 顏色的操作 (對明亮度做直方圖均衡)\n",
    "2. 把矩形邊框畫在圖片上之後再做位置上的變換 -> 水平鏡像 + 縮放處理 (0.5 倍)\n",
    "\n",
    "得到的圖的結果正確，但你不知道新的矩型邊框座標點"
   ]
  },
  {
   "cell_type": "code",
   "execution_count": 4,
   "metadata": {},
   "outputs": [],
   "source": [
    "# answer 1 :\n",
    "img_equal = img_bgr.copy()\n",
    "\n",
    "# transfer color space to HSV image (3D array)\n",
    "img_equal = cv2.cvtColor(img_equal, cv2.COLOR_BGR2HSV)\n",
    "# histogram equalization by value(brightness) channel of HSV image (2D array) -> 增強對比\n",
    "img_equal[:,:,2] = cv2.equalizeHist(img_equal[:,:,2])\n",
    "\n",
    "# transfer color space return to BGR\n",
    "img_equal = cv2.cvtColor(img_equal, cv2.COLOR_HSV2BGR)\n",
    "\n",
    "# cv2.rectangle(original image, line-left-up(x,y), line-right-down(x,y), line-color, line-thickenss)\n",
    "start_point = (60, 40) \n",
    "end_point = (420, 510) \n",
    "color = (0, 0, 255)    \n",
    "thickness = 3          \n",
    "cv2.rectangle(img_equal, start_point, end_point, color, thickness)\n",
    "\n",
    "# horizontal flip(水平翻轉) -> 矩形框跟著水平翻轉\n",
    "# img_bgr[h, w, channel], w reversed which means horizontal flip\n",
    "img_equal = img_equal[:, ::-1, :]\n",
    "\n",
    "# resize to 50% of original image -> 矩形框跟著resize\n",
    "img_equal = cv2.resize(img_equal, None, fx=0.5, fy=0.5, interpolation=cv2.INTER_LINEAR)\n",
    "\n",
    "while True :\n",
    "    # display of img_equal, named as 'img equal then rect & mirror & zoom'\n",
    "    cv2.imshow('img equal then rect & mirror & zoom', img_equal)\n",
    "    \n",
    "    # waiting until to press any key then close the display window\n",
    "    if cv2.waitKey(0) : \n",
    "        cv2.destroyAllWindows()\n",
    "        break"
   ]
  },
  {
   "cell_type": "markdown",
   "metadata": {},
   "source": [
    "## 解法二 :\n",
    "1. 顏色的操作 (對明亮度做直方圖均衡)\n",
    "2. 鏡像可以透過四則運算得知\n",
    "3. 透過建構 transformation matrix 做縮放\n",
    "4. 把矩型邊框的點與 transformation matrix 相乘就會得到縮放後的位置\n",
    "5. 畫圖\n",
    "\n",
    "得到的圖的結果正確，同時也知道新的矩型邊框座標點"
   ]
  },
  {
   "cell_type": "code",
   "execution_count": 7,
   "metadata": {},
   "outputs": [
    {
     "name": "stdout",
     "output_type": "stream",
     "text": [
      "original point1=[92, 40], original point2=[452, 510]\n",
      "resized point1=(46, 20), resized point2=(226, 255)\n"
     ]
    }
   ],
   "source": [
    "# answer 2 :\n",
    "img_equal = img_bgr.copy()\n",
    "point1 = [60, 40]    # left-up\n",
    "point2 = [420, 510]  # right-down\n",
    "\n",
    "# transfer color space to HSV image (3D array)\n",
    "img_equal = cv2.cvtColor(img_equal, cv2.COLOR_BGR2HSV)\n",
    "# histogram equalization by value(brightness) channel of HSV image (2D array) -> 增強對比\n",
    "img_equal[:,:,2] = cv2.equalizeHist(img_equal[:,:,2])\n",
    "\n",
    "# transfer color space return to BGR\n",
    "img_equal = cv2.cvtColor(img_equal, cv2.COLOR_HSV2BGR)\n",
    "\n",
    "# image : horizontal flip\n",
    "img_equal = img_equal[:, ::-1, :]\n",
    "\n",
    "# point1,point2 : horizontal flip\n",
    "# img_equal.shape[0] means height, img_equal.shape[1] means width (512, 512)\n",
    "h, w = img_equal.shape[0], img_equal.shape[1]\n",
    "#print(h,w)\n",
    "# point1, point2 : after mirror\n",
    "point1[0] = w - point1[0]  # right-up\n",
    "point2[0] = w - point2[0]  # left-down\n",
    "point1[0], point2[0] = point2[0], point1[0]  \n",
    "#print(point1, point2)\n",
    "\n",
    "# image : resize\n",
    "# Transformation Matrix ([[0.5,0,tx], [0,0.5,ty]]), x resize from 1 to 0.5, y resize from 1 to 0.5(don't move)\n",
    "M = np.float32([[0.5, 0, 0], [0, 0.5, 0]])\n",
    "fx = 0.5\n",
    "fy = 0.5\n",
    "resize_w = int(img_equal.shape[1]*fx)\n",
    "resize_h = int(img_equal.shape[0]*fy)\n",
    "img_equal = cv2.warpAffine(img_equal, M, (resize_w, resize_h))\n",
    "\n",
    "# point1,point2 : resize\n",
    "# point1,point2 transfer to numpy array, then matrix dot\n",
    "rect1 = np.float32((point1, point2))\n",
    "# M.T, then matrix dot\n",
    "rect2 = np.dot(M.T, rect1)\n",
    "# point1,point2 transfer to uint8 type\n",
    "rect3 = rect2.astype('uint8')\n",
    "point1_new = tuple(rect3[0])\n",
    "point2_new = tuple(rect3[1])\n",
    "print('original point1={}, original point2={}'.format(point1, point2))\n",
    "print('resized point1={}, resized point2={}'.format(point1_new, point2_new))\n",
    "\n",
    "# drawing rectangle\n",
    "color = (0, 0, 255)    \n",
    "thickness = 3     \n",
    "cv2.rectangle(img_equal, point1_new, point2_new, color, thickness)\n",
    "\n",
    "while True :\n",
    "    # display of img_equal, named as 'img equal then rect & mirror & zoom'\n",
    "    cv2.imshow('img equal then rect & mirror & zoom', img_equal)\n",
    "    \n",
    "    # waiting until to press any key then close the display window\n",
    "    if cv2.waitKey(0) : \n",
    "        cv2.destroyAllWindows()\n",
    "        break"
   ]
  },
  {
   "cell_type": "markdown",
   "metadata": {},
   "source": [
    "##  解法三 (optional)\n",
    "\n",
    "1. 把矩型邊框用遮罩的方式呈現，使用同樣處理圖片的方式處理遮罩\n",
    "2. 最後再找遮罩的左上跟右下的點的位置"
   ]
  },
  {
   "cell_type": "code",
   "execution_count": 8,
   "metadata": {},
   "outputs": [
    {
     "name": "stdout",
     "output_type": "stream",
     "text": [
      "original point1=(60, 40), original point2=(420, 510)\n",
      "resized point1=(46, 20), resized point2=(225, 254)\n"
     ]
    }
   ],
   "source": [
    "# answer 3 :\n",
    "img_equal = img_bgr.copy()\n",
    "point1 = (60, 40)    # left-up\n",
    "point2 = (420, 510)  # right-down\n",
    "\n",
    "img_mask = np.zeros_like(img_equal)  \n",
    "img_mask[40:510, 60:420, :] = 255\n",
    "\n",
    "# transfer color space to HSV image (3D array)\n",
    "img_equal = cv2.cvtColor(img_equal, cv2.COLOR_BGR2HSV)\n",
    "# histogram equalization by value(brightness) channel of HSV image (2D array) -> 增強對比\n",
    "img_equal[:,:,2] = cv2.equalizeHist(img_equal[:,:,2])\n",
    "\n",
    "# transfer color space return to BGR\n",
    "img_equal = cv2.cvtColor(img_equal, cv2.COLOR_HSV2BGR)\n",
    "\n",
    "# image : horizontal flip\n",
    "img_equal = img_equal[:, ::-1, :]\n",
    "\n",
    "# mask : horizontal flip\n",
    "img_mask = img_mask[:, ::-1, :]\n",
    "\n",
    "# image : resize\n",
    "img_equal = cv2.resize(img_equal, None, fx=0.5, fy=0.5, interpolation=cv2.INTER_LINEAR)\n",
    "\n",
    "# mask : resize\n",
    "img_mask = cv2.resize(img_mask, None, fx=0.5, fy=0.5, interpolation=cv2.INTER_LINEAR)\n",
    "\n",
    "# get the index of img_mask height, weight, channel for drawing rextangle\n",
    "h, w, c = np.where(img_mask)  \n",
    "point1_new = (min(w), min(h)) # tuple\n",
    "point2_new = (max(w), max(h)) # tuple\n",
    "print('original point1={}, original point2={}'.format(point1, point2))\n",
    "print('resized point1={}, resized point2={}'.format(point1_new, point2_new))\n",
    "\n",
    "# drawing rectangle\n",
    "color = (0, 0, 255)    \n",
    "thickness = 3     \n",
    "cv2.rectangle(img_equal, point1_new, point2_new, color, thickness)\n",
    "\n",
    "while True :\n",
    "    # display of img_equal, named as 'img equal then rect & mirror & zoom'\n",
    "    cv2.imshow('img equal then rect & mirror & zoom', img_equal)\n",
    "    \n",
    "    # waiting until to press any key then close the display window\n",
    "    if cv2.waitKey(0) : \n",
    "        cv2.destroyAllWindows()\n",
    "        break"
   ]
  },
  {
   "cell_type": "code",
   "execution_count": null,
   "metadata": {},
   "outputs": [],
   "source": []
  }
 ],
 "metadata": {
  "kernelspec": {
   "display_name": "Python 3",
   "language": "python",
   "name": "python3"
  },
  "language_info": {
   "codemirror_mode": {
    "name": "ipython",
    "version": 3
   },
   "file_extension": ".py",
   "mimetype": "text/x-python",
   "name": "python",
   "nbconvert_exporter": "python",
   "pygments_lexer": "ipython3",
   "version": "3.7.3"
  }
 },
 "nbformat": 4,
 "nbformat_minor": 2
}
