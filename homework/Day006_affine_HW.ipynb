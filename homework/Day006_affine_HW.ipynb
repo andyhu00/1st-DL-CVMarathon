{
 "cells": [
  {
   "cell_type": "markdown",
   "metadata": {},
   "source": [
    "## 作業\n",
    "\n",
    "練習以旋轉變換 + 平移變換來實現仿射變換\n",
    "> 旋轉 45 度 + 縮放 0.5 倍 + 平移 (x+100, y-50)"
   ]
  },
  {
   "cell_type": "code",
   "execution_count": 2,
   "metadata": {},
   "outputs": [],
   "source": [
    "import cv2\n",
    "import numpy as np\n",
    "\n",
    "# Using lena.png\n",
    "img = 'img/lena.png'\n",
    "\n",
    "# default read as cv2.IMREAD_COLOR(彩色圖)\n",
    "img_bgr = cv2.imread(img, cv2.IMREAD_COLOR)"
   ]
  },
  {
   "cell_type": "code",
   "execution_count": 4,
   "metadata": {},
   "outputs": [
    {
     "name": "stdout",
     "output_type": "stream",
     "text": [
      "rotation matrix :\n",
      "[[  0.35355339   0.35355339  74.98066402]\n",
      " [ -0.35355339   0.35355339 256.        ]]\n",
      "translation matrix :\n",
      "[[  1.   0. 100.]\n",
      " [  0.   1. -50.]]\n"
     ]
    }
   ],
   "source": [
    "# case 1\n",
    "# img_equal.shape[0] means height, img_equal.shape[1] means width (512, 512)\n",
    "h, w = img_bgr.shape[0:2]\n",
    "\n",
    "# get a rotation matrix(旋轉矩陣) -> ((center), rotate angle, scale)\n",
    "M_rotate = cv2.getRotationMatrix2D((w/2, h/2), 45, 0.5)\n",
    "print('rotation matrix :')\n",
    "print(M_rotate)\n",
    "\n",
    "# get a translation transformation matrix(平移矩陣) -> (x+100, y-50)\n",
    "M_translate = np.float32([[1, 0, 100], [0, 1, -50]])\n",
    "print('translation matrix :')\n",
    "print(M_translate)\n",
    "\n",
    "# image rotate :\n",
    "# cv2.warpAffine(img, TT Matrix, dsize=(width, height))\n",
    "img_rotate = cv2.warpAffine(img_bgr, M_rotate, (w, h))\n",
    "\n",
    "# image translate :\n",
    "# cv2.warpAffine(img, TT Matrix, dsize=(width, height))\n",
    "img_rotate_translate = cv2.warpAffine(img_rotate, M_translate, (w, h))\n",
    "\n",
    "# 橫向組合圖片\n",
    "img_rotate_translate_new = np.hstack((img_bgr, img_rotate, img_rotate_translate))\n",
    "\n",
    "while True :\n",
    "    # display of img_rotate_translate_new, named as 'img rotate 45 & scale 0.5 & translate x+100, y-50'\n",
    "    cv2.imshow('img rotate 45 & scale 0.5 & translate x+100, y-50', img_rotate_translate_new)\n",
    "    \n",
    "    # waiting until to press any key then close the display window\n",
    "    if cv2.waitKey(0) : \n",
    "        cv2.destroyAllWindows()\n",
    "        break"
   ]
  },
  {
   "cell_type": "code",
   "execution_count": null,
   "metadata": {},
   "outputs": [],
   "source": []
  }
 ],
 "metadata": {
  "kernelspec": {
   "display_name": "Python 3",
   "language": "python",
   "name": "python3"
  },
  "language_info": {
   "codemirror_mode": {
    "name": "ipython",
    "version": 3
   },
   "file_extension": ".py",
   "mimetype": "text/x-python",
   "name": "python",
   "nbconvert_exporter": "python",
   "pygments_lexer": "ipython3",
   "version": "3.7.3"
  }
 },
 "nbformat": 4,
 "nbformat_minor": 2
}
