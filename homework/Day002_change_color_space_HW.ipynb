{
 "cells": [
  {
   "cell_type": "markdown",
   "metadata": {},
   "source": [
    "## 作業\n",
    "改變圖片的 color space (包含 RGB, HSV, HSL, LAB) 並呈現\n",
    "\n",
    "使用 lena png :\n",
    "- http://optipng.sourceforge.net/pngtech/img/lena.png"
   ]
  },
  {
   "cell_type": "code",
   "execution_count": 1,
   "metadata": {},
   "outputs": [],
   "source": [
    "import cv2\n",
    "\n",
    "# Using lena.png\n",
    "img = 'img/lena.png'\n",
    "\n",
    "# default read as cv2.IMREAD_COLOR(彩色圖)\n",
    "img_bgr = cv2.imread(img, cv2.IMREAD_COLOR)\n",
    "\n",
    "# converting from color space to HSV color space\n",
    "img_hsv = cv2.cvtColor(img_bgr, cv2.COLOR_BGR2HSV)\n",
    "\n",
    "# converting from color space to HSL color space\n",
    "img_hsl = cv2.cvtColor(img_bgr, cv2.COLOR_BGR2HLS)\n",
    "\n",
    "# converting from color space to LAB color space\n",
    "img_lab = cv2.cvtColor(img_bgr, cv2.COLOR_BGR2LAB)\n",
    "\n",
    "while True :\n",
    "    # display of img_bgr, named as 'bgr'\n",
    "    cv2.imshow('bgr', img_bgr)\n",
    "    \n",
    "    # display of img_hsv, named as 'hsv'\n",
    "    cv2.imshow('hsv', img_hsv)\n",
    "    \n",
    "    # display of img_hsl, named as 'hsl'\n",
    "    cv2.imshow('hsl', img_hsl)\n",
    "    \n",
    "    # display of img_lab, named as 'lab'\n",
    "    cv2.imshow('lab', img_lab)\n",
    "    \n",
    "    # waiting until to press any key then close the display window\n",
    "    if cv2.waitKey(0) : \n",
    "        cv2.destroyAllWindows()\n",
    "        break"
   ]
  },
  {
   "cell_type": "code",
   "execution_count": null,
   "metadata": {},
   "outputs": [],
   "source": []
  }
 ],
 "metadata": {
  "kernelspec": {
   "display_name": "Python 3",
   "language": "python",
   "name": "python3"
  },
  "language_info": {
   "codemirror_mode": {
    "name": "ipython",
    "version": 3
   },
   "file_extension": ".py",
   "mimetype": "text/x-python",
   "name": "python",
   "nbconvert_exporter": "python",
   "pygments_lexer": "ipython3",
   "version": "3.7.3"
  }
 },
 "nbformat": 4,
 "nbformat_minor": 2
}
